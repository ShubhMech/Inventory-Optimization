{
 "cells": [
  {
   "cell_type": "code",
   "execution_count": 2,
   "id": "49f72d71-b356-4a28-aaee-9cffd80951e5",
   "metadata": {},
   "outputs": [],
   "source": [
    "import inventorize3 as inv"
   ]
  },
  {
   "cell_type": "code",
   "execution_count": 3,
   "id": "4d21143b-8fc8-4e7d-a8e8-3bbeaa9fbead",
   "metadata": {},
   "outputs": [],
   "source": [
    "Demand= 4000\n",
    "Cost_Item= 2500\n",
    "Ordering_Cost=6000\n",
    "Holding_Cost_PerYear_PerItem=  0.1*Cost_Item"
   ]
  },
  {
   "cell_type": "code",
   "execution_count": 13,
   "id": "9d52bb60-8b21-4bb0-8d30-056966317de6",
   "metadata": {},
   "outputs": [],
   "source": [
    "eoq=inv.eoq(Demand,Ordering_Cost,Cost_Item,0.1)"
   ]
  },
  {
   "cell_type": "code",
   "execution_count": 14,
   "id": "9f3946c5-760f-4802-97f7-1335f163f0c4",
   "metadata": {},
   "outputs": [
    {
     "data": {
      "text/plain": [
       "{'EOQ': 438.1780460041329,\n",
       " 'T_years': 0.10954451150103323,\n",
       " 'T_weeks': 5.6963145980537275}"
      ]
     },
     "execution_count": 14,
     "metadata": {},
     "output_type": "execute_result"
    }
   ],
   "source": [
    "eoq"
   ]
  },
  {
   "cell_type": "code",
   "execution_count": 18,
   "id": "50d6abf7-2105-4a7f-a9fc-fa613638f8a4",
   "metadata": {},
   "outputs": [
    {
     "data": {
      "text/plain": [
       "{'Ts': 0.06928203230275509,\n",
       " 'Tstarweeks': 3.602665679743265,\n",
       " 'Qstar': 277.1281292110204,\n",
       " 'Tpractical': 2,\n",
       " 'Tpracticalweeks': 2,\n",
       " 'Qpractical': 153.84615384615387}"
      ]
     },
     "execution_count": 18,
     "metadata": {},
     "output_type": "execute_result"
    }
   ],
   "source": [
    "inv.TQpractical(Demand,Ordering_Cost,Cost_Item,0.25)"
   ]
  },
  {
   "cell_type": "code",
   "execution_count": null,
   "id": "13e435fb-90d7-4832-9a58-19dba21bd0b9",
   "metadata": {},
   "outputs": [],
   "source": []
  },
  {
   "cell_type": "code",
   "execution_count": null,
   "id": "ff0268fc-3de3-4ad4-8977-6a8b3e918627",
   "metadata": {},
   "outputs": [],
   "source": []
  },
  {
   "cell_type": "code",
   "execution_count": null,
   "id": "d433b09a-19c4-40c2-adf1-d122d2c11d08",
   "metadata": {},
   "outputs": [],
   "source": []
  }
 ],
 "metadata": {
  "kernelspec": {
   "display_name": "Python 3",
   "language": "python",
   "name": "python3"
  },
  "language_info": {
   "codemirror_mode": {
    "name": "ipython",
    "version": 3
   },
   "file_extension": ".py",
   "mimetype": "text/x-python",
   "name": "python",
   "nbconvert_exporter": "python",
   "pygments_lexer": "ipython3",
   "version": "3.8.5"
  }
 },
 "nbformat": 4,
 "nbformat_minor": 5
}
